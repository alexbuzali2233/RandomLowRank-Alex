{
 "cells": [
  {
   "cell_type": "code",
   "execution_count": 1,
   "outputs": [],
   "source": [
    "#Imports\n",
    "import matplotlib.pyplot as plt\n",
    "from src import *\n",
    "from src.helpers.getMatrix import spectrumObject\n",
    "import pickle\n",
    "from scipy.linalg import qr, svdvals"
   ],
   "metadata": {
    "collapsed": false,
    "ExecuteTime": {
     "end_time": "2024-07-02T02:17:38.048324Z",
     "start_time": "2024-07-02T02:17:37.653444Z"
    }
   }
  },
  {
   "cell_type": "code",
   "execution_count": 2,
   "outputs": [],
   "source": [
    "#Matrix Parameters\n",
    "n = 1024\n",
    "spectrumLevels = [1,1e-12]\n",
    "decayRange = [5,80]\n",
    "decayTypes = ['smoothgap']\n",
    "rowSpaces = ['coherent', 'incoherent', 'random']\n",
    "ks = [70]\n",
    "figSize = (10,6)"
   ],
   "metadata": {
    "collapsed": false,
    "ExecuteTime": {
     "end_time": "2024-07-02T02:17:38.050967Z",
     "start_time": "2024-07-02T02:17:38.049206Z"
    }
   }
  },
  {
   "cell_type": "code",
   "execution_count": null,
   "outputs": [],
   "source": [
    "#Generate matrices\n",
    "spec = spectrumObject(spectrumLevels,decayRange,decayTypes)\n",
    "matrices = {}\n",
    "trueVs = {}\n",
    "\n",
    "for rowSpace in rowSpaces:\n",
    "    U, sigma, V = getMatrix(n, rowSpace, spec, True, .01)\n",
    "    matrices[rowSpace] = U @ sigma @ V.T\n",
    "    trueVs[rowSpace] = V"
   ],
   "metadata": {
    "collapsed": false
   }
  },
  {
   "cell_type": "code",
   "execution_count": null,
   "outputs": [],
   "source": [
    "coherence(matrices['incoherent'][:,:70], 70)"
   ],
   "metadata": {
    "collapsed": false
   }
  },
  {
   "cell_type": "code",
   "execution_count": null,
   "outputs": [],
   "source": [
    "#Plot singular spectrum, gap\n",
    "fig, ax = plt.subplots(figsize=figSize)\n",
    "singularValues = np.diag(sigma)\n",
    "\n",
    "plt.semilogy(range(150), singularValues[:150])\n",
    "plt.plot(np.array(range(n))[ks], singularValues[ks],'o', color = '#1f77b4', markersize=12,\n",
    "markeredgecolor=\"red\", markerfacecolor=\"red\", label ='k values')\n",
    "\n",
    "plt.xlabel('Index k')\n",
    "plt.ylabel(r'Singular Value $\\sigma_k$')\n",
    "plt.legend()"
   ],
   "metadata": {
    "collapsed": false
   }
  },
  {
   "cell_type": "code",
   "execution_count": null,
   "outputs": [],
   "source": [
    "#Gamma_k and r_k\n",
    "shiftedSV = singularValues[1:]\n",
    "gammaK = shiftedSV/singularValues[:-1]\n",
    "\n",
    "rK = []\n",
    "for k in range(n-1):\n",
    "    r = np.sum([singularValues[i]**2 for i in range(k+1, n)])/(singularValues[k+1]**2)\n",
    "    rK.append(r)\n",
    "\n",
    "# plt.plot(range(150), gammaK[:150], '--')\n",
    "plt.plot(np.array(range(n))[ks], np.array(rK)[ks],'o', color = '#1f77b4', markersize=12,\n",
    "         markeredgecolor=\"red\", markerfacecolor=\"red\", label =r'$k$ values')\n",
    "plt.legend()\n",
    "print(gammaK[ks])\n",
    "print(np.array(rK)[ks])\n",
    "plt.plot(rK[:150])"
   ],
   "metadata": {
    "collapsed": false
   }
  },
  {
   "cell_type": "code",
   "execution_count": null,
   "outputs": [],
   "source": [
    "#Algorithm Parameters\n",
    "sketchType = 'Gaussian'\n",
    "trialNumber = 250\n",
    "oversampling = [5]\n",
    "indices = range(n)"
   ],
   "metadata": {
    "collapsed": false
   }
  },
  {
   "cell_type": "code",
   "execution_count": null,
   "outputs": [],
   "source": [
    "#Get RGKS right singular spectrum data\n",
    "Ahats = {}\n",
    "projectorData = {}\n",
    "pis = {}\n",
    "\n",
    "for k in ks:\n",
    "\n",
    "    for rowSpace in rowSpaces:\n",
    "\n",
    "        A = matrices[rowSpace]\n",
    "\n",
    "        for p in oversampling:\n",
    "\n",
    "            print(f'k = {k}, {rowSpace}, Oversampling: {p}')\n",
    "            rgksResults = [randomGKS(A, k, p, sketchType, getDist=True, getV=True) for i in range(trialNumber)]\n",
    "            Ahats[(k,rowSpace,p)], pis[(k,rowSpace,p)], projectorData[(k,rowSpace,p)] = zip(*rgksResults)\n",
    "\n",
    "with open('Jupyter Data/Ahats.pkl', 'wb') as f:\n",
    "    pickle.dump(Ahats, f)\n",
    "\n",
    "with open('Jupyter Data/projectorData.pkl', 'wb') as f:\n",
    "    pickle.dump(projectorData, f)\n",
    "\n",
    "with open('Jupyter Data/trueVs.pkl', 'wb') as f:\n",
    "    pickle.dump(trueVs, f)"
   ],
   "metadata": {
    "collapsed": false
   }
  },
  {
   "cell_type": "code",
   "execution_count": null,
   "outputs": [],
   "source": [
    "projectorData[(70,'coherent',p)].shape"
   ],
   "metadata": {
    "collapsed": false
   }
  },
  {
   "cell_type": "code",
   "execution_count": null,
   "outputs": [],
   "source": [
    "#Get projector differences and statistics across trials\n",
    "with open('Jupyter Data/projectorData.pkl', 'rb') as f:\n",
    "    projectorData = pickle.load(f)\n",
    "with open('Jupyter Data/trueVs.pkl', 'rb') as f:\n",
    "    trueVs = pickle.load(f)\n",
    "\n",
    "p = 5\n",
    "projectorDifferences = {}\n",
    "spectralNorms = {}\n",
    "maxElemDiffs = {}\n",
    "medianElemDiffs = {}\n",
    "averageElemDiffs = {}\n",
    "\n",
    "for k in ks:\n",
    "\n",
    "    for rowSpace in rowSpaces:\n",
    "\n",
    "        print(f'k = {k}, {rowSpace}')\n",
    "        V = trueVs[rowSpace][:,:k]\n",
    "        print('diff')\n",
    "        projectorDifferences[(k,rowSpace)] = [V@V.T-Vhat@Vhat.T for Vhat in projectorData[(k,rowSpace,p)]]\n",
    "        print('spec')\n",
    "        spectralNorms[(k,rowSpace)] = [np.linalg.norm(diff, 2) for diff in projectorDifferences[(k,rowSpace)]]\n",
    "        print('max')\n",
    "        maxElemDiffs[(k,rowSpace)] = [np.max(np.abs(diff)) for diff in projectorDifferences[(k,rowSpace)]]\n",
    "        print('median')\n",
    "        medianElemDiffs[(k,rowSpace)] = [np.median(np.abs(diff)) for diff in projectorDifferences[(k,rowSpace)]]\n",
    "        print('average')\n",
    "        averageElemDiffs[(k,rowSpace)] = [np.average(np.abs(diff)) for diff in projectorDifferences[(k,rowSpace)]]"
   ],
   "metadata": {
    "collapsed": false
   }
  },
  {
   "cell_type": "code",
   "execution_count": null,
   "outputs": [],
   "source": [
    "#Save Data\n",
    "with open('Jupyter Data/Ahats.pkl', 'wb') as f:\n",
    "    pickle.dump(Ahats, f)\n",
    "with open('Jupyter Data/projectorDifferences.pkl', 'wb') as f:\n",
    "    pickle.dump(projectorDifferences, f)\n",
    "with open('Jupyter Data/spectralNorms.pkl', 'wb') as f:\n",
    "    pickle.dump(spectralNorms, f)\n",
    "with open('Jupyter Data/maxElemDiffs.pkl', 'wb') as f:\n",
    "    pickle.dump(maxElemDiffs, f)\n",
    "with open('Jupyter Data/medianElemDiffs.pkl', 'wb') as f:\n",
    "    pickle.dump(medianElemDiffs, f)\n",
    "with open('Jupyter Data/averageElemDiffs.pkl', 'wb') as f:\n",
    "    pickle.dump(averageElemDiffs, f)\n",
    "with open('Jupyter Data/pis.pkl', 'wb') as f:\n",
    "    pickle.dump(pis, f)"
   ],
   "metadata": {
    "collapsed": false
   }
  },
  {
   "cell_type": "code",
   "execution_count": 3,
   "outputs": [],
   "source": [
    "#Load Data\n",
    "with open('Jupyter Data/Ahats.pkl', 'rb') as f:\n",
    "    Ahats = pickle.load(f)\n",
    "\n",
    "with open('Jupyter Data/projectorData.pkl', 'rb') as f:\n",
    "    projectorData = pickle.load(f)\n",
    "\n",
    "with open('Jupyter Data/projectorDifferences.pkl', 'rb') as f:\n",
    "    projectorDifferences = pickle.load(f)\n",
    "\n",
    "with open('Jupyter Data/spectralNorms.pkl', 'rb') as f:\n",
    "    spectralNorms = pickle.load(f)\n",
    "\n",
    "with open('Jupyter Data/maxElemDiffs.pkl', 'rb') as f:\n",
    "    maxElemDiffs = pickle.load(f)\n",
    "\n",
    "with open('Jupyter Data/medianElemDiffs.pkl', 'rb') as f:\n",
    "    medianElemDiffs = pickle.load(f)\n",
    "\n",
    "with open('Jupyter Data/averageElemDiffs.pkl', 'rb') as f:\n",
    "    averageElemDiffs = pickle.load(f)\n",
    "\n",
    "with open('Jupyter Data/pis.pkl', 'rb') as f:\n",
    "    pis = pickle.load(f)"
   ],
   "metadata": {
    "collapsed": false,
    "ExecuteTime": {
     "end_time": "2024-07-02T02:17:51.868709Z",
     "start_time": "2024-07-02T02:17:48.884586Z"
    }
   }
  },
  {
   "cell_type": "code",
   "execution_count": 4,
   "outputs": [
    {
     "data": {
      "text/plain": "Text(0, 0.5, 'Counts')"
     },
     "execution_count": 4,
     "metadata": {},
     "output_type": "execute_result"
    },
    {
     "data": {
      "text/plain": "<Figure size 1400x800 with 10 Axes>",
      "image/png": "[encoded data removed]"
     },
     "metadata": {},
     "output_type": "display_data"
    }
   ],
   "source": [
    "#Variable Statistic Histograms\n",
    "fig, ax = plt.subplots(3,3,figsize=(14,8))\n",
    "bins = 20\n",
    "alpha = .7\n",
    "\n",
    "colors = [f'C{i}' for i in range(4)]\n",
    "\n",
    "for i, k in enumerate(ks):\n",
    "    for j, rowSpace in enumerate(rowSpaces):\n",
    "        ax[i][j].hist(np.log10(spectralNorms[(k,rowSpace)]), bins, label = r'$||P-\\widehat{P}_i||_2$', alpha = alpha, color = colors[0])\n",
    "        ax[i][j].hist(np.log10(maxElemDiffs[(k,rowSpace)]), bins, label = 'Max Diffs', alpha = alpha, color = colors[1])\n",
    "        ax[i][j].hist(np.log10(medianElemDiffs[(k,rowSpace)]), bins, label = 'Median Diffs', alpha = alpha, color = colors[2])\n",
    "        ax[i][j].hist(np.log10(averageElemDiffs[(k,rowSpace)]), bins, label = 'Average Diffs', alpha = alpha, color = colors[3])\n",
    "\n",
    "        # ax[i][j].set_ylim(0,17)\n",
    "        # ax[i][j].set_xlim(-9,1)\n",
    "        ax[0][j].set_title(f'{rowSpace}')\n",
    "        ax[i][2].set_ylabel(f'k = {k}', rotation=270, labelpad=15)\n",
    "        ax[i][j].yaxis.set_label_position(\"right\")\n",
    "ax[0][2].legend()\n",
    "\n",
    "#for axis titles\n",
    "fig.add_subplot(111, frameon=False)\n",
    "plt.tick_params(labelcolor='none', top=False, bottom=False, left=False, right=False)\n",
    "plt.grid(False)\n",
    "plt.ylabel(\"Counts\")"
   ],
   "metadata": {
    "collapsed": false,
    "ExecuteTime": {
     "end_time": "2024-07-02T02:17:54.581320Z",
     "start_time": "2024-07-02T02:17:54.085330Z"
    }
   }
  },
  {
   "cell_type": "code",
   "execution_count": 5,
   "outputs": [
    {
     "data": {
      "text/plain": "<Figure size 640x480 with 1 Axes>",
      "image/png": "[encoded data removed]"
     },
     "metadata": {},
     "output_type": "display_data"
    }
   ],
   "source": [
    "#Single Statistic Histograms\n",
    "fig, ax = plt.subplots()\n",
    "bins = 10\n",
    "alpha = .7\n",
    "\n",
    "k = 70\n",
    "rowSpace = 'random'\n",
    "\n",
    "colors = [f'C{i}' for i in range(4)]\n",
    "\n",
    "plt.hist(spectralNorms[(k,rowSpace)], bins, label = r'$||P-\\widehat{P}_t||_2$', alpha = alpha, color = colors[0])\n",
    "plt.hist(maxElemDiffs[(k,rowSpace)], bins, label = r'max$|P-\\widehat{P}_t|_{ij}$', alpha = alpha, color = colors[1])\n",
    "plt.hist(medianElemDiffs[(k,rowSpace)], bins, label = r'med$|P-\\widehat{P}_t|_{ij}$', alpha = alpha, color = colors[2])\n",
    "plt.hist(averageElemDiffs[(k,rowSpace)], bins, label = r'avg$|P-\\widehat{P}_t|_{ij}$', alpha = alpha, color = colors[3])\n",
    "plt.xlim((10**-3.5,10**.5))\n",
    "plt.ylim((0,91))\n",
    "\n",
    "plt.xscale('log')\n",
    "plt.xticks([1e0,1e-1,1e-2,1e-3])\n",
    "if rowSpace == 'random':\n",
    "    ax.legend(bbox_transform=fig.transFigure, mode = 'expand', ncols = 2, prop={'size': 18})\n",
    "    # plt.legend(loc='upper right')\n",
    "plt.rcParams.update({'font.size': 24})\n",
    "plt.savefig(f'Figures/{k}{rowSpace}histogram.pdf', bbox_inches='tight')"
   ],
   "metadata": {
    "collapsed": false,
    "ExecuteTime": {
     "end_time": "2024-07-02T02:18:40.754995Z",
     "start_time": "2024-07-02T02:18:40.441249Z"
    }
   }
  },
  {
   "cell_type": "code",
   "execution_count": null,
   "outputs": [],
   "source": [
    "smallestTrueSingularValues = {}\n",
    "smallestApproximateSingularValues = {}\n",
    "p=5\n",
    "\n",
    "for k in ks:\n",
    "    for rowSpace in rowSpaces:\n",
    "\n",
    "        trueV = trueVs[rowSpace][:,:k] #n x k\n",
    "\n",
    "        #True permutation\n",
    "        _,_,truePi = qr(trueV.T,pivoting=True) #Compute on V (n x k) or V.T (k x n)?\n",
    "        truePermutedV = trueV[truePi[:k],:]\n",
    "        smallestTrueSingularValues[(k,rowSpace)] = min(svdvals(truePermutedV))\n",
    "\n",
    "        #Approximate permutations\n",
    "        approxPermutedVs = np.array([trueV[pi[:k],:] for pi in pis[(k,rowSpace,p)]])\n",
    "        smallestApproximateSingularValues[(k,rowSpace)] = np.array([min(svdvals(aPV)) for aPV in approxPermutedVs])"
   ],
   "metadata": {
    "collapsed": false
   }
  },
  {
   "cell_type": "code",
   "execution_count": null,
   "outputs": [],
   "source": [
    "k = 70\n",
    "rowSpace = 'coherent'\n",
    "\n",
    "bins = 100\n",
    "alpha = .7\n",
    "print(np.arccos(smallestTrueSingularValues[(k,rowSpace)]))\n",
    "print(np.arccos(smallestApproximateSingularValues[(k,rowSpace)]))\n",
    "\n",
    "plt.vlines(np.arccos(smallestTrueSingularValues[(k,rowSpace)]), 0, 200,'red', '--', label=r'True $\\varphi_{max}$')\n",
    "plt.hist(np.arccos(smallestApproximateSingularValues[(k,rowSpace)]), bins = bins, label = r'Approximate $\\varphi_{max}$')\n",
    "plt.legend()\n",
    "# plt.xscale('log')"
   ],
   "metadata": {
    "collapsed": false
   }
  },
  {
   "cell_type": "code",
   "execution_count": null,
   "outputs": [],
   "source": [
    "#RGKS Error\n",
    "p=5\n",
    "rgksApproximationErrors = {}\n",
    "\n",
    "for k in ks:\n",
    "\n",
    "    for rowSpace in rowSpaces:\n",
    "\n",
    "        A = matrices[rowSpace]\n",
    "        rgksApproximationErrors[(k,rowSpace)] = [np.linalg.norm(Ahat-A, ord = 2)/spectrumLevels[1] for Ahat in Ahats[(k,rowSpace,p)]]\n",
    "        print(f'{k},{rowSpace}')\n",
    "with open('Jupyter Data/rgksApproximationErrors.pkl', 'wb') as f:\n",
    "    pickle.dump(rgksApproximationErrors, f)"
   ],
   "metadata": {
    "collapsed": false
   }
  },
  {
   "cell_type": "code",
   "execution_count": null,
   "outputs": [],
   "source": [
    "#GKS Error\n",
    "gksApproximationErrors = {}\n",
    "\n",
    "for k in ks:\n",
    "\n",
    "    for rowSpace in rowSpaces:\n",
    "\n",
    "        A = matrices[rowSpace]\n",
    "        Ahat = GKS(A,k)\n",
    "        gksApproximationErrors[(k,rowSpace)] = np.linalg.norm(Ahat-A, ord = 2)/spectrumLevels[1]\n",
    "with open('Jupyter Data/gksApproximationErrors.pkl', 'wb') as f:\n",
    "    pickle.dump(gksApproximationErrors, f)"
   ],
   "metadata": {
    "collapsed": false
   }
  },
  {
   "cell_type": "code",
   "execution_count": null,
   "outputs": [],
   "source": [
    "with open('Jupyter Data/rgksApproximationErrors.pkl', 'rb') as f:\n",
    "    rgksApproximationErrors = pickle.load(f)\n",
    "with open('Jupyter Data/gksApproximationErrors.pkl', 'rb') as f:\n",
    "    gksApproximationErrors = pickle.load(f)"
   ],
   "metadata": {
    "collapsed": false
   }
  },
  {
   "cell_type": "code",
   "execution_count": null,
   "outputs": [],
   "source": [
    "k = 70\n",
    "ymax = [208,35,41]\n",
    "colors = ['#0b2b5e','#b54c05','#094a0d']\n",
    "for i, rowSpace in enumerate(rowSpaces):\n",
    "    plt.hist(rgksApproximationErrors[(k,rowSpace)], bins = 15, label = rowSpace)\n",
    "    plt.vlines(gksApproximationErrors[(k,rowSpace)],0,ymax[i], colors[i], '--')\n",
    "plt.xlabel('Approximation Error (Relative to Optimal)')\n",
    "plt.ylabel('Counts')\n",
    "plt.rcParams.update({'font.size': 20})\n",
    "plt.legend()\n",
    "plt.savefig(f'Figures/approximationerrors.pdf', bbox_inches='tight')"
   ],
   "metadata": {
    "collapsed": false
   }
  },
  {
   "cell_type": "code",
   "execution_count": null,
   "outputs": [],
   "source": [
    "fig, ax = plt.subplots(3,3,figsize=(14,8))\n",
    "p=4\n",
    "for i, k in enumerate(ks):\n",
    "    for j, rowSpace in enumerate(rowSpaces):\n",
    "        pos = ax[i][j].imshow(np.average(np.log10(np.abs(permutedProjectorDifferences[(k,rowSpace)])), 0))\n",
    "        fig.colorbar(pos, ax=ax[i][j])\n",
    "        ax[0][j].set_title(f'{rowSpace}')\n",
    "        ax[i][0].set_ylabel(f'k = {k}')"
   ],
   "metadata": {
    "collapsed": false
   }
  },
  {
   "cell_type": "code",
   "execution_count": null,
   "outputs": [],
   "source": [
    "#Single graph with inset\n",
    "k = 70\n",
    "rowSpace = 'coherent'\n",
    "\n",
    "vmin = -4\n",
    "vmax = 0\n",
    "\n",
    "#Plot\n",
    "fig, ax = plt.subplots()\n",
    "heatMap = np.average(np.log10(np.abs(permutedProjectorDifferences[(k,rowSpace)])), 0)\n",
    "pos = ax.imshow(heatMap, vmin = vmin, vmax = vmax)\n",
    "fig.colorbar(pos, ticks=[-4,-3,-2,-1,0])\n",
    "\n",
    "#Inset\n",
    "axins = ax.inset_axes([0.6, 0.5, 0.35, 0.35])\n",
    "axins.imshow(heatMap[:100,:100], extent=(0,100,0,100), vmin = vmin ,vmax = vmax)\n",
    "axins.tick_params(axis='x', colors='white')\n",
    "axins.tick_params(axis='y', colors='white')\n",
    "plt.rcParams.update({'font.size': 16})\n",
    "\n",
    "axins.set_xticks([0,25, 50, 75, 100], ['0','25','50','75','100'])\n",
    "axins.set_yticks([0,25, 50, 75, 100], ['0','25','50','75','100'][::-1])\n",
    "axins.spines['right'].set_color('white')\n",
    "axins.spines['left'].set_color('white')\n",
    "axins.spines['top'].set_color('white')\n",
    "axins.spines['bottom'].set_color('white')\n",
    "axins.tick_params(left = False, bottom=False)\n",
    "rect, connector_lines = ax.indicate_inset_zoom(axins, edgecolor=\"white\")\n",
    "plt.savefig(f'Figures/{k}{rowSpace}diffheatmap.pdf')"
   ],
   "metadata": {
    "collapsed": false
   }
  },
  {
   "cell_type": "code",
   "execution_count": null,
   "outputs": [],
   "source": [
    "#True\n",
    "k = 70\n",
    "rowSpace = 'coherent'\n",
    "\n",
    "vmin = -20\n",
    "vmax = 0\n",
    "\n",
    "#Plot\n",
    "fig, ax = plt.subplots()\n",
    "a = np.abs(permutedTrueProjectors[(k,rowSpace)])\n",
    "heatMap = np.average(np.log10(a, where=a>0), 0)\n",
    "pos = ax.imshow(heatMap, vmin=vmin, vmax=vmax)\n",
    "fig.colorbar(pos, ticks = [-20,-15,-10,-5,0])\n",
    "\n",
    "#Inset\n",
    "axins = ax.inset_axes([0.6, 0.5, 0.35, 0.35])\n",
    "axins.imshow(heatMap[:100,:100], extent=(0,100,0,100), vmin = vmin ,vmax = vmax)\n",
    "axins.tick_params(axis='x', colors='white')\n",
    "axins.tick_params(axis='y', colors='white')\n",
    "plt.rcParams.update({'font.size': 16})\n",
    "\n",
    "axins.set_xticks([0,25, 50, 75, 100], ['0','25','50','75','100'])\n",
    "axins.set_yticks([0,25, 50, 75, 100], ['0','25','50','75','100'][::-1])\n",
    "axins.spines['right'].set_color('white')\n",
    "axins.spines['left'].set_color('white')\n",
    "axins.spines['top'].set_color('white')\n",
    "axins.spines['bottom'].set_color('white')\n",
    "axins.tick_params(left = False, bottom=False)\n",
    "rect, connector_lines = ax.indicate_inset_zoom(axins, edgecolor=\"white\")\n",
    "plt.savefig(f'Figures/{k}{rowSpace}trueheatmap.pdf')"
   ],
   "metadata": {
    "collapsed": false
   }
  },
  {
   "cell_type": "code",
   "execution_count": null,
   "outputs": [],
   "source": [
    "#Approximate\n",
    "k = 70\n",
    "rowSpace = 'coherent'\n",
    "\n",
    "vmin = -4\n",
    "vmax = 0\n",
    "#Plot\n",
    "fig, ax = plt.subplots()\n",
    "heatMap = np.average(np.log10(np.abs(permutedHatProjectors[(k,rowSpace)])), 0)\n",
    "pos = ax.imshow(heatMap)\n",
    "fig.colorbar(pos, ticks=[-4,-3,-2,-1,0])\n",
    "\n",
    "#Inset\n",
    "axins = ax.inset_axes([0.6, 0.5, 0.35, 0.35])\n",
    "axins.imshow(heatMap[:100,:100], extent=(0,100,0,100), vmin = vmin ,vmax = vmax)\n",
    "axins.tick_params(axis='x', colors='white')\n",
    "axins.tick_params(axis='y', colors='white')\n",
    "plt.rcParams.update({'font.size': 16})\n",
    "\n",
    "axins.set_xticks([0,25, 50, 75, 100], ['0','25','50','75','100'])\n",
    "axins.set_yticks([0,25, 50, 75, 100], ['0','25','50','75','100'][::-1])\n",
    "axins.spines['right'].set_color('white')\n",
    "axins.spines['left'].set_color('white')\n",
    "axins.spines['top'].set_color('white')\n",
    "axins.spines['bottom'].set_color('white')\n",
    "axins.tick_params(left = False, bottom=False)\n",
    "rect, connector_lines = ax.indicate_inset_zoom(axins, edgecolor=\"white\")\n",
    "plt.savefig(f'Figures/{k}{rowSpace}approxheatmap.pdf')"
   ],
   "metadata": {
    "collapsed": false
   }
  },
  {
   "cell_type": "code",
   "execution_count": null,
   "outputs": [],
   "source": [],
   "metadata": {
    "collapsed": false
   }
  }
 ],
 "metadata": {
  "kernelspec": {
   "display_name": "Python 3",
   "language": "python",
   "name": "python3"
  },
  "language_info": {
   "codemirror_mode": {
    "name": "ipython",
    "version": 2
   },
   "file_extension": ".py",
   "mimetype": "text/x-python",
   "name": "python",
   "nbconvert_exporter": "python",
   "pygments_lexer": "ipython2",
   "version": "2.7.6"
  }
 },
 "nbformat": 4,
 "nbformat_minor": 0
}
