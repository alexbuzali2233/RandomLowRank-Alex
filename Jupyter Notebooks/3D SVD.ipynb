{
 "cells": [
  {
   "cell_type": "code",
   "execution_count": 12,
   "id": "9d63ecc3",
   "metadata": {},
   "outputs": [],
   "source": [
    "import numpy as np\n",
    "import matplotlib.pyplot as plt\n",
    "from getMatrix import getMatrix\n",
    "from randomSVD import randomSVD\n",
    "from randomColumnSelection import randomColumnSelection\n",
    "from helpers import coherence"
   ]
  },
  {
   "cell_type": "code",
   "execution_count": 13,
   "id": "edc42fd1",
   "metadata": {},
   "outputs": [],
   "source": [
    "n = 96\n",
    "k = 48\n",
    "res = 1e-12\n",
    "trialNumber = 20\n",
    "normalization = 1e-12\n",
    "pRange = range(0,9,2)\n",
    "\n",
    "maxPower = 4\n",
    "sketchType = 'Gaussian'"
   ]
  },
  {
   "cell_type": "code",
   "execution_count": 15,
   "id": "2fc41e5e",
   "metadata": {},
   "outputs": [],
   "source": [
    "svdData = {}\n",
    "\n",
    "for p in pRange:\n",
    "    \n",
    "    coherences = []\n",
    "    errors = []\n",
    "    qs = []\n",
    "\n",
    "    for coherenceScalar in np.arange(0,.3,.001)[::-1]:\n",
    "\n",
    "        trialErrors = []\n",
    "\n",
    "        #Generate A and calculate coherence\n",
    "        U, sigma, V = getMatrix(n,k,res,'coherent','smooth gap',True, coherenceScalar)\n",
    "        A = U@sigma@V.T\n",
    "        for q in range(maxPower):\n",
    "            coherences.append(coherence(V,k))\n",
    "\n",
    "            #Generate Â and calculate approximation error\n",
    "            for j in range(trialNumber):\n",
    "                Ahat= randomSVD(A,k,p,q,sketchType)\n",
    "                trialErrors.append(np.linalg.norm(Ahat-A, ord = 2)/normalization)\n",
    "            errors.append(np.average(np.array(trialErrors)))\n",
    "            qs.append(q)\n",
    "\n",
    "        trialErrors = []\n",
    "\n",
    "        #Generate A and calculate coherence\n",
    "        U, sigma, V = getMatrix(n,k,res,'incoherent','smooth gap',True, coherenceScalar)\n",
    "        A = U@sigma@V.T\n",
    "        for q in range(maxPower):\n",
    "            coherences.append(coherence(V,k))\n",
    "\n",
    "            #Generate Â and calculate approximation error\n",
    "            for j in range(trialNumber):\n",
    "                Ahat= randomSVD(A,k,p,q,sketchType)\n",
    "                trialErrors.append(np.linalg.norm(Ahat-A, ord = 2)/normalization)\n",
    "            errors.append(np.average(np.array(trialErrors)))\n",
    "            qs.append(q)\n",
    "\n",
    "    #Sort by coherence for nice graphing\n",
    "    sortingIndices = np.argsort(coherences)\n",
    "    coherences = np.array(coherences)[sortingIndices]\n",
    "    errors = np.array(errors)[sortingIndices]\n",
    "    qs = np.array(qs)[sortingIndices]\n",
    "    svdData[p]=[coherences,qs,errors]"
   ]
  },
  {
   "cell_type": "code",
   "execution_count": 29,
   "id": "e33acd29",
   "metadata": {},
   "outputs": [],
   "source": [
    "#Graphing\n",
    "%matplotlib qt\n",
    "fig = plt.figure()\n",
    "ax = plt.axes(projection='3d')\n",
    "ax.set_zscale('log')\n",
    "\n",
    "ax.set_xlabel('Coherence')\n",
    "ax.set_ylabel('Power')\n",
    "ax.set_zlabel('Approximation Error')\n",
    "ax.set_yticks(range(maxPower))\n",
    "\n",
    "for p in svdData.keys():\n",
    "    coherences, qs, errors = svdData[p]\n",
    "    ax.scatter3D(coherences,qs,errors)"
   ]
  },
  {
   "cell_type": "code",
   "execution_count": null,
   "id": "02dda3ff",
   "metadata": {},
   "outputs": [],
   "source": []
  }
 ],
 "metadata": {
  "kernelspec": {
   "display_name": "Python 3.8.8 ('base')",
   "language": "python",
   "name": "python3"
  },
  "language_info": {
   "codemirror_mode": {
    "name": "ipython",
    "version": 3
   },
   "file_extension": ".py",
   "mimetype": "text/x-python",
   "name": "python",
   "nbconvert_exporter": "python",
   "pygments_lexer": "ipython3",
   "version": "3.8.8"
  },
  "vscode": {
   "interpreter": {
    "hash": "5551f93def66e60992b1aa9639cad035107b7539e4ca917c86adb5faf9719c81"
   }
  }
 },
 "nbformat": 4,
 "nbformat_minor": 5
}
